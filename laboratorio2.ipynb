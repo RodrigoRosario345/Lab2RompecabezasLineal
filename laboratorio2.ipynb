{
 "cells": [
  {
   "cell_type": "code",
   "execution_count": 29,
   "id": "d0e4e268",
   "metadata": {},
   "outputs": [],
   "source": [
    "# datos = estado\n",
    "class Nodo:\n",
    "    def __init__(self, datos, hijo=None):\n",
    "        self.datos = datos\n",
    "        self.hijos = []\n",
    "        self.padre = None\n",
    "        self.costo = None\n",
    "        self.set_hijo(hijo)\n",
    "        \n",
    "    def set_hijo(self, hijo):\n",
    "        if (hijo is not None):\n",
    "            self.hijos.append(hijo)\n",
    "            if self.hijos is not None:\n",
    "                for h in self.hijos:\n",
    "                    h.padre = self\n",
    "                \n",
    "    def get_hijos(self):\n",
    "        return self.hijos\n",
    "    \n",
    "    def set_padre(self, padre):\n",
    "        self.padre = padre\n",
    "        \n",
    "    def get_padre(self):\n",
    "        return self.padre\n",
    "\n",
    "    def set_datos(self, datos):\n",
    "        self.datos = datos\n",
    "    \n",
    "    def get_datos(self):\n",
    "        return self.datos\n",
    "    \n",
    "    def set_costo(self, costo):\n",
    "        self.costo = costo\n",
    "        \n",
    "    def get_costo(self):\n",
    "        return self.costo\n",
    "    \n",
    "    def equal(self, nodo):\n",
    "        if self.get_datos() == nodo.get_datos():\n",
    "            return True\n",
    "        else:\n",
    "            return False\n",
    "    \n",
    "    def en_lista(self, lista_nodos):\n",
    "        enlistado = False\n",
    "        for n in lista_nodos:\n",
    "            if self.equal(n):\n",
    "                enlistado = True\n",
    "        return enlistado\n",
    "    \n",
    "    def __str__(self):\n",
    "        return str(self.get_datos())"
   ]
  },
  {
   "cell_type": "code",
   "execution_count": 30,
   "id": "a679e621",
   "metadata": {},
   "outputs": [],
   "source": [
    "def bpa(estado_inicio, estado_solucion):\n",
    "    resuelto = False\n",
    "    nodos_visitados = []\n",
    "    nodos_frontera = []\n",
    "    nodo_inicio = Nodo(estado_inicio)\n",
    "    nodos_frontera.append(nodo_inicio)\n",
    "    \n",
    "    while resuelto == False and len(nodos_frontera) != 0:\n",
    "        nodo_actual = nodos_frontera.pop(0)\n",
    "        nodos_visitados.append(nodo_actual)\n",
    "        if nodo_actual.get_datos() == estado_solucion:\n",
    "            resuelto = True\n",
    "            return nodo_actual\n",
    "        else:\n",
    "            for i in range(0, 9):\n",
    "                hijo1_datos = nodo_actual.get_datos().copy()\n",
    "                temp = hijo1_datos[i]\n",
    "                hijo1_datos[i] = hijo1_datos[i+1]\n",
    "                hijo1_datos[i+1] = temp\n",
    "                hijo1 = Nodo(hijo1_datos)\n",
    "                \n",
    "                if not hijo1.en_lista(nodos_visitados) and not hijo1.en_lista(nodos_frontera):\n",
    "                    nodo_actual.set_hijo(hijo1)\n",
    "                    nodos_frontera.append(hijo1)\n",
    "                \n",
    "            \n",
    "\n",
    "            \n",
    "         \n",
    "                \n",
    "           "
   ]
  },
  {
   "cell_type": "code",
   "execution_count": 31,
   "id": "ae74c57e",
   "metadata": {},
   "outputs": [
    {
     "ename": "KeyboardInterrupt",
     "evalue": "",
     "output_type": "error",
     "traceback": [
      "\u001b[1;31m---------------------------------------------------------------------------\u001b[0m",
      "\u001b[1;31mKeyboardInterrupt\u001b[0m                         Traceback (most recent call last)",
      "Cell \u001b[1;32mIn [31], line 6\u001b[0m\n\u001b[0;32m      3\u001b[0m \u001b[38;5;66;03m# estado_inicial = [1, 2, 3, 4, 5, 6, 7, 8, 10, 9]\u001b[39;00m\n\u001b[0;32m      5\u001b[0m solucion \u001b[38;5;241m=\u001b[39m [\u001b[38;5;241m1\u001b[39m, \u001b[38;5;241m2\u001b[39m, \u001b[38;5;241m3\u001b[39m, \u001b[38;5;241m4\u001b[39m, \u001b[38;5;241m5\u001b[39m, \u001b[38;5;241m6\u001b[39m, \u001b[38;5;241m7\u001b[39m, \u001b[38;5;241m8\u001b[39m, \u001b[38;5;241m9\u001b[39m, \u001b[38;5;241m10\u001b[39m]\n\u001b[1;32m----> 6\u001b[0m nodo_solucion \u001b[38;5;241m=\u001b[39m \u001b[43mbpa\u001b[49m\u001b[43m(\u001b[49m\u001b[43mestado_inicial\u001b[49m\u001b[43m,\u001b[49m\u001b[43m \u001b[49m\u001b[43msolucion\u001b[49m\u001b[43m)\u001b[49m\n\u001b[0;32m      8\u001b[0m \u001b[38;5;66;03m# mostrar resultado\u001b[39;00m\n\u001b[0;32m      9\u001b[0m resultado \u001b[38;5;241m=\u001b[39m []\n",
      "Cell \u001b[1;32mIn [30], line 22\u001b[0m, in \u001b[0;36mbpa\u001b[1;34m(estado_inicio, estado_solucion)\u001b[0m\n\u001b[0;32m     19\u001b[0m hijo1_datos[i\u001b[38;5;241m+\u001b[39m\u001b[38;5;241m1\u001b[39m] \u001b[38;5;241m=\u001b[39m temp\n\u001b[0;32m     20\u001b[0m hijo1 \u001b[38;5;241m=\u001b[39m Nodo(hijo1_datos)\n\u001b[1;32m---> 22\u001b[0m \u001b[38;5;28;01mif\u001b[39;00m \u001b[38;5;129;01mnot\u001b[39;00m hijo1\u001b[38;5;241m.\u001b[39men_lista(nodos_visitados) \u001b[38;5;129;01mand\u001b[39;00m \u001b[38;5;129;01mnot\u001b[39;00m \u001b[43mhijo1\u001b[49m\u001b[38;5;241;43m.\u001b[39;49m\u001b[43men_lista\u001b[49m\u001b[43m(\u001b[49m\u001b[43mnodos_frontera\u001b[49m\u001b[43m)\u001b[49m:\n\u001b[0;32m     23\u001b[0m     nodo_actual\u001b[38;5;241m.\u001b[39mset_hijo(hijo1)\n\u001b[0;32m     24\u001b[0m     nodos_frontera\u001b[38;5;241m.\u001b[39mappend(hijo1)\n",
      "Cell \u001b[1;32mIn [29], line 47\u001b[0m, in \u001b[0;36mNodo.en_lista\u001b[1;34m(self, lista_nodos)\u001b[0m\n\u001b[0;32m     45\u001b[0m enlistado \u001b[38;5;241m=\u001b[39m \u001b[38;5;28;01mFalse\u001b[39;00m\n\u001b[0;32m     46\u001b[0m \u001b[38;5;28;01mfor\u001b[39;00m n \u001b[38;5;129;01min\u001b[39;00m lista_nodos:\n\u001b[1;32m---> 47\u001b[0m     \u001b[38;5;28;01mif\u001b[39;00m \u001b[38;5;28;43mself\u001b[39;49m\u001b[38;5;241;43m.\u001b[39;49m\u001b[43mequal\u001b[49m\u001b[43m(\u001b[49m\u001b[43mn\u001b[49m\u001b[43m)\u001b[49m:\n\u001b[0;32m     48\u001b[0m         enlistado \u001b[38;5;241m=\u001b[39m \u001b[38;5;28;01mTrue\u001b[39;00m\n\u001b[0;32m     49\u001b[0m \u001b[38;5;28;01mreturn\u001b[39;00m enlistado\n",
      "Cell \u001b[1;32mIn [29], line 39\u001b[0m, in \u001b[0;36mNodo.equal\u001b[1;34m(self, nodo)\u001b[0m\n\u001b[0;32m     38\u001b[0m \u001b[38;5;28;01mdef\u001b[39;00m \u001b[38;5;21mequal\u001b[39m(\u001b[38;5;28mself\u001b[39m, nodo):\n\u001b[1;32m---> 39\u001b[0m     \u001b[38;5;28;01mif\u001b[39;00m \u001b[38;5;28;43mself\u001b[39;49m\u001b[38;5;241;43m.\u001b[39;49m\u001b[43mget_datos\u001b[49m\u001b[43m(\u001b[49m\u001b[43m)\u001b[49m \u001b[38;5;241m==\u001b[39m nodo\u001b[38;5;241m.\u001b[39mget_datos():\n\u001b[0;32m     40\u001b[0m         \u001b[38;5;28;01mreturn\u001b[39;00m \u001b[38;5;28;01mTrue\u001b[39;00m\n\u001b[0;32m     41\u001b[0m     \u001b[38;5;28;01melse\u001b[39;00m:\n",
      "Cell \u001b[1;32mIn [29], line 29\u001b[0m, in \u001b[0;36mNodo.get_datos\u001b[1;34m(self)\u001b[0m\n\u001b[0;32m     26\u001b[0m \u001b[38;5;28;01mdef\u001b[39;00m \u001b[38;5;21mset_datos\u001b[39m(\u001b[38;5;28mself\u001b[39m, datos):\n\u001b[0;32m     27\u001b[0m     \u001b[38;5;28mself\u001b[39m\u001b[38;5;241m.\u001b[39mdatos \u001b[38;5;241m=\u001b[39m datos\n\u001b[1;32m---> 29\u001b[0m \u001b[38;5;28;01mdef\u001b[39;00m \u001b[38;5;21mget_datos\u001b[39m(\u001b[38;5;28mself\u001b[39m):\n\u001b[0;32m     30\u001b[0m     \u001b[38;5;28;01mreturn\u001b[39;00m \u001b[38;5;28mself\u001b[39m\u001b[38;5;241m.\u001b[39mdatos\n\u001b[0;32m     32\u001b[0m \u001b[38;5;28;01mdef\u001b[39;00m \u001b[38;5;21mset_costo\u001b[39m(\u001b[38;5;28mself\u001b[39m, costo):\n",
      "\u001b[1;31mKeyboardInterrupt\u001b[0m: "
     ]
    }
   ],
   "source": [
    "if __name__ == \"__main__\":\n",
    "    estado_inicial = [10, 9, 8, 7, 6, 5, 4, 3, 2, 1]\n",
    "    # estado_inicial = [1, 2, 3, 4, 5, 6, 7, 8, 10, 9]\n",
    "    \n",
    "    solucion = [1, 2, 3, 4, 5, 6, 7, 8, 9, 10]\n",
    "    nodo_solucion = bpa(estado_inicial, solucion)\n",
    "\n",
    "    # mostrar resultado\n",
    "    resultado = []\n",
    "    nodo_actual = nodo_solucion\n",
    "    while nodo_actual.get_padre() is not None:\n",
    "        resultado.append(nodo_actual.get_datos())\n",
    "        nodo_actual = nodo_actual.get_padre()\n",
    "\n",
    "    resultado.append(estado_inicial)\n",
    "    resultado.reverse()\n",
    "    print(resultado)"
   ]
  },
  {
   "cell_type": "code",
   "execution_count": null,
   "id": "dbe6be16",
   "metadata": {},
   "outputs": [],
   "source": []
  }
 ],
 "metadata": {
  "kernelspec": {
   "display_name": "Python 3.10.5 64-bit",
   "language": "python",
   "name": "python3"
  },
  "language_info": {
   "codemirror_mode": {
    "name": "ipython",
    "version": 3
   },
   "file_extension": ".py",
   "mimetype": "text/x-python",
   "name": "python",
   "nbconvert_exporter": "python",
   "pygments_lexer": "ipython3",
   "version": "3.10.5"
  },
  "vscode": {
   "interpreter": {
    "hash": "a9cff5a362bc38ef45d817ae74b1af54d6a076e3d773891282bce078b815ba34"
   }
  }
 },
 "nbformat": 4,
 "nbformat_minor": 5
}
